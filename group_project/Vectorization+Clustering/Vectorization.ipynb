{
 "cells": [
  {
   "cell_type": "code",
   "execution_count": 5,
   "metadata": {},
   "outputs": [],
   "source": [
    "import pandas as pd\n",
    "from gensim.models import Word2Vec\n",
    "from sklearn.cluster import KMeans\n",
    "import numpy as np"
   ]
  },
  {
   "cell_type": "code",
   "execution_count": 6,
   "metadata": {},
   "outputs": [
    {
     "data": {
      "text/html": [
       "<div>\n",
       "<style scoped>\n",
       "    .dataframe tbody tr th:only-of-type {\n",
       "        vertical-align: middle;\n",
       "    }\n",
       "\n",
       "    .dataframe tbody tr th {\n",
       "        vertical-align: top;\n",
       "    }\n",
       "\n",
       "    .dataframe thead th {\n",
       "        text-align: right;\n",
       "    }\n",
       "</style>\n",
       "<table border=\"1\" class=\"dataframe\">\n",
       "  <thead>\n",
       "    <tr style=\"text-align: right;\">\n",
       "      <th></th>\n",
       "      <th>date</th>\n",
       "      <th>content</th>\n",
       "    </tr>\n",
       "  </thead>\n",
       "  <tbody>\n",
       "    <tr>\n",
       "      <th>0</th>\n",
       "      <td>January 2, 2023</td>\n",
       "      <td>['bank', 'israel', 'raise', 'key', 'rate', 'se...</td>\n",
       "    </tr>\n",
       "    <tr>\n",
       "      <th>1</th>\n",
       "      <td>January 2, 2023</td>\n",
       "      <td>['lpga', 'ranking', 'reuters']['jan', '2', 'op...</td>\n",
       "    </tr>\n",
       "    <tr>\n",
       "      <th>2</th>\n",
       "      <td>January 2, 2023</td>\n",
       "      <td>['turkish', 'factory', 'activity', 'contract',...</td>\n",
       "    </tr>\n",
       "    <tr>\n",
       "      <th>3</th>\n",
       "      <td>January 2, 2023</td>\n",
       "      <td>['european', 'share', 'start', '2023', 'upbeat...</td>\n",
       "    </tr>\n",
       "    <tr>\n",
       "      <th>4</th>\n",
       "      <td>January 2, 2023</td>\n",
       "      <td>['weekaheadindiarupee', 'bond', 'yield', 'kick...</td>\n",
       "    </tr>\n",
       "    <tr>\n",
       "      <th>...</th>\n",
       "      <td>...</td>\n",
       "      <td>...</td>\n",
       "    </tr>\n",
       "    <tr>\n",
       "      <th>712</th>\n",
       "      <td>January 1, 2023</td>\n",
       "      <td>['alex', 'tuch', 'lift', 'sabre', 'bruin', 'ot...</td>\n",
       "    </tr>\n",
       "    <tr>\n",
       "      <th>713</th>\n",
       "      <td>January 1, 2023</td>\n",
       "      <td>['taiwan', 'president', 'offer', 'china', 'hel...</td>\n",
       "    </tr>\n",
       "    <tr>\n",
       "      <th>714</th>\n",
       "      <td>January 1, 2023</td>\n",
       "      <td>['kim', 'jong', 'un', 'order', 'new', 'icbm', ...</td>\n",
       "    </tr>\n",
       "    <tr>\n",
       "      <th>715</th>\n",
       "      <td>January 1, 2023</td>\n",
       "      <td>['22', 'new', 'mexico', 'edge', 'wyoming', 'ro...</td>\n",
       "    </tr>\n",
       "    <tr>\n",
       "      <th>716</th>\n",
       "      <td>January 1, 2023</td>\n",
       "      <td>['bank', 'korea', 'chief', 'see', 'conflict', ...</td>\n",
       "    </tr>\n",
       "  </tbody>\n",
       "</table>\n",
       "<p>717 rows × 2 columns</p>\n",
       "</div>"
      ],
      "text/plain": [
       "                date                                            content\n",
       "0    January 2, 2023  ['bank', 'israel', 'raise', 'key', 'rate', 'se...\n",
       "1    January 2, 2023  ['lpga', 'ranking', 'reuters']['jan', '2', 'op...\n",
       "2    January 2, 2023  ['turkish', 'factory', 'activity', 'contract',...\n",
       "3    January 2, 2023  ['european', 'share', 'start', '2023', 'upbeat...\n",
       "4    January 2, 2023  ['weekaheadindiarupee', 'bond', 'yield', 'kick...\n",
       "..               ...                                                ...\n",
       "712  January 1, 2023  ['alex', 'tuch', 'lift', 'sabre', 'bruin', 'ot...\n",
       "713  January 1, 2023  ['taiwan', 'president', 'offer', 'china', 'hel...\n",
       "714  January 1, 2023  ['kim', 'jong', 'un', 'order', 'new', 'icbm', ...\n",
       "715  January 1, 2023  ['22', 'new', 'mexico', 'edge', 'wyoming', 'ro...\n",
       "716  January 1, 2023  ['bank', 'korea', 'chief', 'see', 'conflict', ...\n",
       "\n",
       "[717 rows x 2 columns]"
      ]
     },
     "execution_count": 6,
     "metadata": {},
     "output_type": "execute_result"
    }
   ],
   "source": [
    "test_data = pd.read_excel(r'C:\\Users\\markham\\OneDrive\\Desktop\\MFIN7036\\group_project\\Vectorization+Clustering\\data\\tset.xlsx')\n",
    "test_data = test_data.drop(columns=['time','updated','tags'])\n",
    "test_data['content'] = test_data['title'] + test_data['body']\n",
    "test_data = test_data.drop(columns=['title','body'])\n",
    "test_data"
   ]
  },
  {
   "cell_type": "code",
   "execution_count": null,
   "metadata": {},
   "outputs": [],
   "source": [
    "model = Word2Vec(sentences=tokenized_news, vector_size=100, window=5, min_count=1, workers=4)"
   ]
  }
 ],
 "metadata": {
  "kernelspec": {
   "display_name": "base",
   "language": "python",
   "name": "python3"
  },
  "language_info": {
   "codemirror_mode": {
    "name": "ipython",
    "version": 3
   },
   "file_extension": ".py",
   "mimetype": "text/x-python",
   "name": "python",
   "nbconvert_exporter": "python",
   "pygments_lexer": "ipython3",
   "version": "3.12.4"
  }
 },
 "nbformat": 4,
 "nbformat_minor": 2
}
